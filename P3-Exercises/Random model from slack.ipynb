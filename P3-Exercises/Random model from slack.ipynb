{
 "cells": [
  {
   "cell_type": "code",
   "execution_count": null,
   "metadata": {
    "collapsed": true
   },
   "outputs": [],
   "source": [
    "def nvidia_model():\n",
    "    model = Sequential()\n",
    "    model.add(Lambda(lambda x: x/127.5 - 1.,input_shape = input_shape))\n",
    "    model.add(Convolution2D(24, 5, 5, subsample=(2, 2), border_mode=\"valid\", init='he_normal'))\n",
    "    model.add(ELU())\n",
    "    model.add(Convolution2D(36, 5, 5, subsample=(2, 2), border_mode=\"valid\", init='he_normal'))\n",
    "    model.add(ELU())\n",
    "    model.add(Convolution2D(48, 5, 5, subsample=(2, 2), border_mode=\"valid\", init='he_normal'))\n",
    "    model.add(ELU())\n",
    "    model.add(Convolution2D(64, 3, 3, subsample=(1, 1), border_mode=\"valid\", init='he_normal'))\n",
    "    model.add(ELU())\n",
    "    model.add(Convolution2D(64, 3, 3, subsample=(1, 1), border_mode=\"valid\", init='he_normal'))\n",
    "    model.add(Flatten())\n",
    "    model.add(ELU())\n",
    "    model.add(Dense(1164, init='he_normal'))\n",
    "    model.add(ELU())\n",
    "    model.add(Dense(100, init='he_normal'))\n",
    "    model.add(ELU())\n",
    "    model.add(Dense(50, init='he_normal'))\n",
    "    model.add(ELU())\n",
    "    model.add(Dense(10, init='he_normal'))\n",
    "    model.add(ELU())\n",
    "    model.add(Dense(1, init='he_normal'))\n",
    "    return model\n",
    "```\n",
    "\n",
    "[10:58]  \n",
    "this works with 66X200 image\n",
    "\n",
    "[10:59]  \n",
    "200X66, sorry, keep messing up rows and colums"
   ]
  }
 ],
 "metadata": {
  "anaconda-cloud": {},
  "kernelspec": {
   "display_name": "Python [conda env:CarND-LeNet-Lab]",
   "language": "python",
   "name": "conda-env-CarND-LeNet-Lab-py"
  },
  "language_info": {
   "codemirror_mode": {
    "name": "ipython",
    "version": 3
   },
   "file_extension": ".py",
   "mimetype": "text/x-python",
   "name": "python",
   "nbconvert_exporter": "python",
   "pygments_lexer": "ipython3",
   "version": "3.5.2"
  }
 },
 "nbformat": 4,
 "nbformat_minor": 2
}
