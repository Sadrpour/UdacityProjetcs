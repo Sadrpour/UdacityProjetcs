{
 "cells": [
  {
   "cell_type": "markdown",
   "metadata": {},
   "source": [
    "SVM"
   ]
  },
  {
   "cell_type": "code",
   "execution_count": 4,
   "metadata": {
    "collapsed": true
   },
   "outputs": [],
   "source": [
    "from sklearn import svm \n",
    "clf = svm.SVC()\n",
    "clf.fit(X,Y)\n"
   ]
  },
  {
   "cell_type": "code",
   "execution_count": null,
   "metadata": {
    "collapsed": true
   },
   "outputs": [],
   "source": [
    "import sys\n",
    "from class_vis import prettyPicture\n",
    "from prep_terrain_data import makeTerrainData\n",
    "\n",
    "import matplotlib.pyplot as plt\n",
    "import copy\n",
    "import numpy as np\n",
    "import pylab as pl\n",
    "\n",
    "\n",
    "features_train, labels_train, features_test, labels_test = makeTerrainData()\n",
    "\n",
    "\n",
    "########################## SVM #################################\n",
    "### we handle the import statement and SVC creation for you here\n",
    "from sklearn.svm import SVC\n",
    "# The 'gamma' parameter actually has no effect on the 'linear' kernel for SVMs.# \n",
    "# C larger more nonlinearity \n",
    "# larger gamma further points impact the boundary \n",
    "clf = SVC(kernel=\"linear\", C , gamma )\n",
    "clf.fit(features_train, labels_train)\n",
    "\n",
    "#### now your job is to fit the classifier\n",
    "#### using the training features/labels, and to\n",
    "#### make a set of predictions on the test data\n",
    "\n",
    "\n",
    "\n",
    "#### store your predictions in a list named pred\n",
    "pred = clf.predict(features_test)\n",
    "\n",
    "\n",
    "\n",
    "\n",
    "from sklearn.metrics import accuracy_score\n",
    "acc = accuracy_score(pred, labels_test)\n",
    "\n",
    "def submitAccuracy():\n",
    "    return acc"
   ]
  },
  {
   "cell_type": "markdown",
   "metadata": {},
   "source": [
    "decision trees"
   ]
  },
  {
   "cell_type": "code",
   "execution_count": 5,
   "metadata": {
    "collapsed": false
   },
   "outputs": [
    {
     "ename": "AttributeError",
     "evalue": "module 'sklearn.tree' has no attribute 'Dec'",
     "output_type": "error",
     "traceback": [
      "\u001b[0;31m---------------------------------------------------------------------------\u001b[0m",
      "\u001b[0;31mAttributeError\u001b[0m                            Traceback (most recent call last)",
      "\u001b[0;32m<ipython-input-5-111f2f083aeb>\u001b[0m in \u001b[0;36m<module>\u001b[0;34m()\u001b[0m\n\u001b[1;32m      1\u001b[0m \u001b[0;32mfrom\u001b[0m \u001b[0msklearn\u001b[0m \u001b[0;32mimport\u001b[0m \u001b[0mtree\u001b[0m\u001b[0;34m\u001b[0m\u001b[0m\n\u001b[0;32m----> 2\u001b[0;31m \u001b[0mclf\u001b[0m \u001b[0;34m=\u001b[0m \u001b[0mtree\u001b[0m\u001b[0;34m.\u001b[0m\u001b[0mDec\u001b[0m\u001b[0;34m\u001b[0m\u001b[0m\n\u001b[0m",
      "\u001b[0;31mAttributeError\u001b[0m: module 'sklearn.tree' has no attribute 'Dec'"
     ]
    }
   ],
   "source": [
    "from sklearn import tree\n",
    "clf = tree.DecisionTreeClassifier()\n",
    "clf = clf.fit(X,Y)\n",
    "\n",
    "\n",
    "\n",
    "from sklearn import tree\n",
    "from sklearn.metrics import accuracy_score\n",
    "clf = tree.DecisionTreeClassifier().fit(features_train, labels_train)\n",
    "pred = clf.predict(features_test)\n",
    "acc = accuracy_score(pred,labels_test)\n",
    "### be sure to compute the accuracy on the test set"
   ]
  },
  {
   "cell_type": "code",
   "execution_count": 9,
   "metadata": {
    "collapsed": false
   },
   "outputs": [
    {
     "data": {
      "text/plain": [
       "1.0"
      ]
     },
     "execution_count": 9,
     "metadata": {},
     "output_type": "execute_result"
    }
   ],
   "source": [
    "- ((0.5)*np.log2(0.5) + (0.5)*np.log2(0.5))  # worst entropy"
   ]
  },
  {
   "cell_type": "markdown",
   "metadata": {},
   "source": [
    "entorpy = 1.0 (no purity)\n",
    "entropy = 0.0 (only one class) "
   ]
  },
  {
   "cell_type": "markdown",
   "metadata": {},
   "source": [
    "Naive Bayes "
   ]
  },
  {
   "cell_type": "code",
   "execution_count": 3,
   "metadata": {
    "collapsed": false
   },
   "outputs": [
    {
     "name": "stderr",
     "output_type": "stream",
     "text": [
      "/home/pemfir/anaconda3/envs/CarND-LeNet-Lab/lib/python3.5/site-packages/sklearn/utils/validation.py:395: DeprecationWarning: Passing 1d arrays as data is deprecated in 0.17 and will raise ValueError in 0.19. Reshape your data either using X.reshape(-1, 1) if your data has a single feature or X.reshape(1, -1) if it contains a single sample.\n",
      "  DeprecationWarning)\n"
     ]
    },
    {
     "data": {
      "text/plain": [
       "array([2])"
      ]
     },
     "execution_count": 3,
     "metadata": {},
     "output_type": "execute_result"
    }
   ],
   "source": [
    "import numpy as np\n",
    "X = np.array([[-1, -1], [-2, -1], [-3, -2], [1, 1], [2, 1], [3, 2]])\n",
    "Y = np.array([1, 1, 1, 2, 2, 2])\n",
    "from sklearn.naive_bayes import GaussianNB\n",
    "clf = GaussianNB()\n",
    "clf.fit(X,Y)\n",
    "pred = clf.predict([2,3])\n",
    "pred"
   ]
  },
  {
   "cell_type": "code",
   "execution_count": 3,
   "metadata": {
    "collapsed": false
   },
   "outputs": [
    {
     "ename": "TypeError",
     "evalue": "b'iVBORw0KGgoAAAANSUhEUgAAAbAAAAEgCAYAAADVKCZpAAAABHNCSVQICAgIfAhkiAAAAAlwSFlz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\\nAABJRU5ErkJggg==\\n' is not JSON serializable",
     "output_type": "error",
     "traceback": [
      "\u001b[0;31m---------------------------------------------------------------------------\u001b[0m",
      "\u001b[0;31mTypeError\u001b[0m                                 Traceback (most recent call last)",
      "\u001b[0;32m<ipython-input-3-2fe04b6d6203>\u001b[0m in \u001b[0;36m<module>\u001b[0;34m()\u001b[0m\n\u001b[1;32m    161\u001b[0m \u001b[0;31m### draw the decision boundary with the text points overlaid\u001b[0m\u001b[0;34m\u001b[0m\u001b[0;34m\u001b[0m\u001b[0m\n\u001b[1;32m    162\u001b[0m \u001b[0mprettyPicture\u001b[0m\u001b[0;34m(\u001b[0m\u001b[0mclf\u001b[0m\u001b[0;34m,\u001b[0m \u001b[0mfeatures_test\u001b[0m\u001b[0;34m,\u001b[0m \u001b[0mlabels_test\u001b[0m\u001b[0;34m)\u001b[0m\u001b[0;34m\u001b[0m\u001b[0m\n\u001b[0;32m--> 163\u001b[0;31m \u001b[0moutput_image\u001b[0m\u001b[0;34m(\u001b[0m\u001b[0;34m\"test.png\"\u001b[0m\u001b[0;34m,\u001b[0m \u001b[0;34m\"png\"\u001b[0m\u001b[0;34m,\u001b[0m \u001b[0mopen\u001b[0m\u001b[0;34m(\u001b[0m\u001b[0;34m\"test.png\"\u001b[0m\u001b[0;34m,\u001b[0m \u001b[0;34m\"rb\"\u001b[0m\u001b[0;34m)\u001b[0m\u001b[0;34m.\u001b[0m\u001b[0mread\u001b[0m\u001b[0;34m(\u001b[0m\u001b[0;34m)\u001b[0m\u001b[0;34m)\u001b[0m\u001b[0;34m\u001b[0m\u001b[0m\n\u001b[0m\u001b[1;32m    164\u001b[0m \u001b[0;34m\u001b[0m\u001b[0m\n\u001b[1;32m    165\u001b[0m \u001b[0;34m\u001b[0m\u001b[0m\n",
      "\u001b[0;32m<ipython-input-3-2fe04b6d6203>\u001b[0m in \u001b[0;36moutput_image\u001b[0;34m(name, format, bytes)\u001b[0m\n\u001b[1;32m     83\u001b[0m     \u001b[0mdata\u001b[0m\u001b[0;34m[\u001b[0m\u001b[0;34m'format'\u001b[0m\u001b[0;34m]\u001b[0m \u001b[0;34m=\u001b[0m \u001b[0mformat\u001b[0m\u001b[0;34m\u001b[0m\u001b[0m\n\u001b[1;32m     84\u001b[0m     \u001b[0mdata\u001b[0m\u001b[0;34m[\u001b[0m\u001b[0;34m'bytes'\u001b[0m\u001b[0;34m]\u001b[0m \u001b[0;34m=\u001b[0m \u001b[0mbase64\u001b[0m\u001b[0;34m.\u001b[0m\u001b[0mencodestring\u001b[0m\u001b[0;34m(\u001b[0m\u001b[0mbytes\u001b[0m\u001b[0;34m)\u001b[0m\u001b[0;34m\u001b[0m\u001b[0m\n\u001b[0;32m---> 85\u001b[0;31m     \u001b[0mprint\u001b[0m\u001b[0;34m(\u001b[0m\u001b[0mimage_start\u001b[0m\u001b[0;34m+\u001b[0m\u001b[0mjson\u001b[0m\u001b[0;34m.\u001b[0m\u001b[0mdumps\u001b[0m\u001b[0;34m(\u001b[0m\u001b[0mdata\u001b[0m\u001b[0;34m)\u001b[0m\u001b[0;34m+\u001b[0m\u001b[0mimage_end\u001b[0m\u001b[0;34m)\u001b[0m\u001b[0;34m\u001b[0m\u001b[0m\n\u001b[0m\u001b[1;32m     86\u001b[0m \u001b[0;34m\u001b[0m\u001b[0m\n\u001b[1;32m     87\u001b[0m \u001b[0;34m\u001b[0m\u001b[0m\n",
      "\u001b[0;32m/home/pemfir/anaconda3/envs/CarND-LeNet-Lab/lib/python3.5/json/__init__.py\u001b[0m in \u001b[0;36mdumps\u001b[0;34m(obj, skipkeys, ensure_ascii, check_circular, allow_nan, cls, indent, separators, default, sort_keys, **kw)\u001b[0m\n\u001b[1;32m    228\u001b[0m         \u001b[0mcls\u001b[0m \u001b[0;32mis\u001b[0m \u001b[0;32mNone\u001b[0m \u001b[0;32mand\u001b[0m \u001b[0mindent\u001b[0m \u001b[0;32mis\u001b[0m \u001b[0;32mNone\u001b[0m \u001b[0;32mand\u001b[0m \u001b[0mseparators\u001b[0m \u001b[0;32mis\u001b[0m \u001b[0;32mNone\u001b[0m \u001b[0;32mand\u001b[0m\u001b[0;34m\u001b[0m\u001b[0m\n\u001b[1;32m    229\u001b[0m         default is None and not sort_keys and not kw):\n\u001b[0;32m--> 230\u001b[0;31m         \u001b[0;32mreturn\u001b[0m \u001b[0m_default_encoder\u001b[0m\u001b[0;34m.\u001b[0m\u001b[0mencode\u001b[0m\u001b[0;34m(\u001b[0m\u001b[0mobj\u001b[0m\u001b[0;34m)\u001b[0m\u001b[0;34m\u001b[0m\u001b[0m\n\u001b[0m\u001b[1;32m    231\u001b[0m     \u001b[0;32mif\u001b[0m \u001b[0mcls\u001b[0m \u001b[0;32mis\u001b[0m \u001b[0;32mNone\u001b[0m\u001b[0;34m:\u001b[0m\u001b[0;34m\u001b[0m\u001b[0m\n\u001b[1;32m    232\u001b[0m         \u001b[0mcls\u001b[0m \u001b[0;34m=\u001b[0m \u001b[0mJSONEncoder\u001b[0m\u001b[0;34m\u001b[0m\u001b[0m\n",
      "\u001b[0;32m/home/pemfir/anaconda3/envs/CarND-LeNet-Lab/lib/python3.5/json/encoder.py\u001b[0m in \u001b[0;36mencode\u001b[0;34m(self, o)\u001b[0m\n\u001b[1;32m    196\u001b[0m         \u001b[0;31m# exceptions aren't as detailed.  The list call should be roughly\u001b[0m\u001b[0;34m\u001b[0m\u001b[0;34m\u001b[0m\u001b[0m\n\u001b[1;32m    197\u001b[0m         \u001b[0;31m# equivalent to the PySequence_Fast that ''.join() would do.\u001b[0m\u001b[0;34m\u001b[0m\u001b[0;34m\u001b[0m\u001b[0m\n\u001b[0;32m--> 198\u001b[0;31m         \u001b[0mchunks\u001b[0m \u001b[0;34m=\u001b[0m \u001b[0mself\u001b[0m\u001b[0;34m.\u001b[0m\u001b[0miterencode\u001b[0m\u001b[0;34m(\u001b[0m\u001b[0mo\u001b[0m\u001b[0;34m,\u001b[0m \u001b[0m_one_shot\u001b[0m\u001b[0;34m=\u001b[0m\u001b[0;32mTrue\u001b[0m\u001b[0;34m)\u001b[0m\u001b[0;34m\u001b[0m\u001b[0m\n\u001b[0m\u001b[1;32m    199\u001b[0m         \u001b[0;32mif\u001b[0m \u001b[0;32mnot\u001b[0m \u001b[0misinstance\u001b[0m\u001b[0;34m(\u001b[0m\u001b[0mchunks\u001b[0m\u001b[0;34m,\u001b[0m \u001b[0;34m(\u001b[0m\u001b[0mlist\u001b[0m\u001b[0;34m,\u001b[0m \u001b[0mtuple\u001b[0m\u001b[0;34m)\u001b[0m\u001b[0;34m)\u001b[0m\u001b[0;34m:\u001b[0m\u001b[0;34m\u001b[0m\u001b[0m\n\u001b[1;32m    200\u001b[0m             \u001b[0mchunks\u001b[0m \u001b[0;34m=\u001b[0m \u001b[0mlist\u001b[0m\u001b[0;34m(\u001b[0m\u001b[0mchunks\u001b[0m\u001b[0;34m)\u001b[0m\u001b[0;34m\u001b[0m\u001b[0m\n",
      "\u001b[0;32m/home/pemfir/anaconda3/envs/CarND-LeNet-Lab/lib/python3.5/json/encoder.py\u001b[0m in \u001b[0;36miterencode\u001b[0;34m(self, o, _one_shot)\u001b[0m\n\u001b[1;32m    254\u001b[0m                 \u001b[0mself\u001b[0m\u001b[0;34m.\u001b[0m\u001b[0mkey_separator\u001b[0m\u001b[0;34m,\u001b[0m \u001b[0mself\u001b[0m\u001b[0;34m.\u001b[0m\u001b[0mitem_separator\u001b[0m\u001b[0;34m,\u001b[0m \u001b[0mself\u001b[0m\u001b[0;34m.\u001b[0m\u001b[0msort_keys\u001b[0m\u001b[0;34m,\u001b[0m\u001b[0;34m\u001b[0m\u001b[0m\n\u001b[1;32m    255\u001b[0m                 self.skipkeys, _one_shot)\n\u001b[0;32m--> 256\u001b[0;31m         \u001b[0;32mreturn\u001b[0m \u001b[0m_iterencode\u001b[0m\u001b[0;34m(\u001b[0m\u001b[0mo\u001b[0m\u001b[0;34m,\u001b[0m \u001b[0;36m0\u001b[0m\u001b[0;34m)\u001b[0m\u001b[0;34m\u001b[0m\u001b[0m\n\u001b[0m\u001b[1;32m    257\u001b[0m \u001b[0;34m\u001b[0m\u001b[0m\n\u001b[1;32m    258\u001b[0m def _make_iterencode(markers, _default, _encoder, _indent, _floatstr,\n",
      "\u001b[0;32m/home/pemfir/anaconda3/envs/CarND-LeNet-Lab/lib/python3.5/json/encoder.py\u001b[0m in \u001b[0;36mdefault\u001b[0;34m(self, o)\u001b[0m\n\u001b[1;32m    177\u001b[0m \u001b[0;34m\u001b[0m\u001b[0m\n\u001b[1;32m    178\u001b[0m         \"\"\"\n\u001b[0;32m--> 179\u001b[0;31m         \u001b[0;32mraise\u001b[0m \u001b[0mTypeError\u001b[0m\u001b[0;34m(\u001b[0m\u001b[0mrepr\u001b[0m\u001b[0;34m(\u001b[0m\u001b[0mo\u001b[0m\u001b[0;34m)\u001b[0m \u001b[0;34m+\u001b[0m \u001b[0;34m\" is not JSON serializable\"\u001b[0m\u001b[0;34m)\u001b[0m\u001b[0;34m\u001b[0m\u001b[0m\n\u001b[0m\u001b[1;32m    180\u001b[0m \u001b[0;34m\u001b[0m\u001b[0m\n\u001b[1;32m    181\u001b[0m     \u001b[0;32mdef\u001b[0m \u001b[0mencode\u001b[0m\u001b[0;34m(\u001b[0m\u001b[0mself\u001b[0m\u001b[0;34m,\u001b[0m \u001b[0mo\u001b[0m\u001b[0;34m)\u001b[0m\u001b[0;34m:\u001b[0m\u001b[0;34m\u001b[0m\u001b[0m\n",
      "\u001b[0;31mTypeError\u001b[0m: b'iVBORw0KGgoAAAANSUhEUgAAAbAAAAEgCAYAAADVKCZpAAAABHNCSVQICAgIfAhkiAAAAAlwSFlz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\\nAABJRU5ErkJggg==\\n' is not JSON serializable"
     ]
    }
   ],
   "source": [
    "#!/usr/bin/python\n",
    "\n",
    "\"\"\" Complete the code in ClassifyNB.py with the sklearn\n",
    "    Naive Bayes classifier to classify the terrain data.\n",
    "    \n",
    "    The objective of this exercise is to recreate the decision \n",
    "    boundary found in the lesson video, and make a plot that\n",
    "    visually shows the decision boundary \"\"\"\n",
    "\n",
    "\n",
    "# from prep_terrain_data import makeTerrainData\n",
    "# from class_vis import prettyPicture, output_image\n",
    "# from ClassifyNB import classify\n",
    "\n",
    "import numpy as np\n",
    "import pylab as pl\n",
    "\n",
    "#!/usr/bin/python\n",
    "import random\n",
    "\n",
    "#!/usr/bin/python\n",
    "\n",
    "#from udacityplots import *\n",
    "import warnings\n",
    "warnings.filterwarnings(\"ignore\")\n",
    "\n",
    "import matplotlib \n",
    "matplotlib.use('agg')\n",
    "\n",
    "import matplotlib.pyplot as plt\n",
    "import pylab as pl\n",
    "import numpy as np\n",
    "\n",
    "#import numpy as np\n",
    "#import matplotlib.pyplot as plt\n",
    "#plt.ioff()\n",
    "\n",
    "#!/usr/bin/python\n",
    "\n",
    "\n",
    "\n",
    "\n",
    "def prettyPicture(clf, X_test, y_test):\n",
    "    x_min = 0.0; x_max = 1.0\n",
    "    y_min = 0.0; y_max = 1.0\n",
    "\n",
    "    # Plot the decision boundary. For that, we will assign a color to each\n",
    "    # point in the mesh [x_min, m_max]x[y_min, y_max].\n",
    "    h = .01  # step size in the mesh\n",
    "    xx, yy = np.meshgrid(np.arange(x_min, x_max, h), np.arange(y_min, y_max, h))\n",
    "    Z = clf.predict(np.c_[xx.ravel(), yy.ravel()])\n",
    "\n",
    "    # Put the result into a color plot\n",
    "    Z = Z.reshape(xx.shape)\n",
    "    plt.xlim(xx.min(), xx.max())\n",
    "    plt.ylim(yy.min(), yy.max())\n",
    "\n",
    "    plt.pcolormesh(xx, yy, Z, cmap=pl.cm.seismic)\n",
    "\n",
    "    # Plot also the test points\n",
    "    grade_sig = [X_test[ii][0] for ii in range(0, len(X_test)) if y_test[ii]==0]\n",
    "    bumpy_sig = [X_test[ii][1] for ii in range(0, len(X_test)) if y_test[ii]==0]\n",
    "    grade_bkg = [X_test[ii][0] for ii in range(0, len(X_test)) if y_test[ii]==1]\n",
    "    bumpy_bkg = [X_test[ii][1] for ii in range(0, len(X_test)) if y_test[ii]==1]\n",
    "\n",
    "    plt.scatter(grade_sig, bumpy_sig, color = \"b\", label=\"fast\")\n",
    "    plt.scatter(grade_bkg, bumpy_bkg, color = \"r\", label=\"slow\")\n",
    "    plt.legend()\n",
    "    plt.xlabel(\"bumpiness\")\n",
    "    plt.ylabel(\"grade\")\n",
    "\n",
    "    plt.savefig(\"test.png\")\n",
    "    \n",
    "import base64\n",
    "import json\n",
    "import subprocess\n",
    "\n",
    "def output_image(name, format, bytes):\n",
    "    image_start = \"BEGIN_IMAGE_f9825uweof8jw9fj4r8\"\n",
    "    image_end = \"END_IMAGE_0238jfw08fjsiufhw8frs\"\n",
    "    data = {}\n",
    "    data['name'] = name\n",
    "    data['format'] = format\n",
    "    data['bytes'] = base64.encodestring(bytes)\n",
    "    print(image_start+json.dumps(data)+image_end)\n",
    "\n",
    "\n",
    "def makeTerrainData(n_points=1000):\n",
    "###############################################################################\n",
    "### make the toy dataset\n",
    "    random.seed(42)\n",
    "    grade = [random.random() for ii in range(0,n_points)]\n",
    "    bumpy = [random.random() for ii in range(0,n_points)]\n",
    "    error = [random.random() for ii in range(0,n_points)]\n",
    "    y = [round(grade[ii]*bumpy[ii]+0.3+0.1*error[ii]) for ii in range(0,n_points)]\n",
    "    for ii in range(0, len(y)):\n",
    "        if grade[ii]>0.8 or bumpy[ii]>0.8:\n",
    "            y[ii] = 1.0\n",
    "\n",
    "### split into train/test sets\n",
    "    X = [[gg, ss] for gg, ss in zip(grade, bumpy)]\n",
    "    split = int(0.75*n_points)\n",
    "    X_train = X[0:split]\n",
    "    X_test  = X[split:]\n",
    "    y_train = y[0:split]\n",
    "    y_test  = y[split:]\n",
    "\n",
    "    grade_sig = [X_train[ii][0] for ii in range(0, len(X_train)) if y_train[ii]==0]\n",
    "    bumpy_sig = [X_train[ii][1] for ii in range(0, len(X_train)) if y_train[ii]==0]\n",
    "    grade_bkg = [X_train[ii][0] for ii in range(0, len(X_train)) if y_train[ii]==1]\n",
    "    bumpy_bkg = [X_train[ii][1] for ii in range(0, len(X_train)) if y_train[ii]==1]\n",
    "\n",
    "#    training_data = {\"fast\":{\"grade\":grade_sig, \"bumpiness\":bumpy_sig}\n",
    "#            , \"slow\":{\"grade\":grade_bkg, \"bumpiness\":bumpy_bkg}}\n",
    "\n",
    "\n",
    "    grade_sig = [X_test[ii][0] for ii in range(0, len(X_test)) if y_test[ii]==0]\n",
    "    bumpy_sig = [X_test[ii][1] for ii in range(0, len(X_test)) if y_test[ii]==0]\n",
    "    grade_bkg = [X_test[ii][0] for ii in range(0, len(X_test)) if y_test[ii]==1]\n",
    "    bumpy_bkg = [X_test[ii][1] for ii in range(0, len(X_test)) if y_test[ii]==1]\n",
    "\n",
    "    test_data = {\"fast\":{\"grade\":grade_sig, \"bumpiness\":bumpy_sig}\n",
    "            , \"slow\":{\"grade\":grade_bkg, \"bumpiness\":bumpy_bkg}}\n",
    "\n",
    "    return X_train, y_train, X_test, y_test\n",
    "#    return training_data, test_data\n",
    "\n",
    "\n",
    "def classify(features_train, labels_train):   \n",
    "    ### import the sklearn module for GaussianNB\n",
    "    ### create classifier\n",
    "    ### fit the classifier on the training features and labels\n",
    "    ### return the fit classifier\n",
    "    \n",
    "    \n",
    "    ### your code goes here!\n",
    "    \n",
    "    from sklearn.naive_bayes import GaussianNB\n",
    "    clf = GaussianNB()\n",
    "    mod = clf.fit(features_train,labels_train)\n",
    "    \n",
    "    return mod \n",
    "\n",
    "features_train, labels_train, features_test, labels_test = makeTerrainData()\n",
    "\n",
    "### the training data (features_train, labels_train) have both \"fast\" and \"slow\" points mixed\n",
    "### in together--separate them so we can give them different colors in the scatterplot,\n",
    "### and visually identify them\n",
    "grade_fast = [features_train[ii][0] for ii in range(0, len(features_train)) if labels_train[ii]==0]\n",
    "bumpy_fast = [features_train[ii][1] for ii in range(0, len(features_train)) if labels_train[ii]==0]\n",
    "grade_slow = [features_train[ii][0] for ii in range(0, len(features_train)) if labels_train[ii]==1]\n",
    "bumpy_slow = [features_train[ii][1] for ii in range(0, len(features_train)) if labels_train[ii]==1]\n",
    "\n",
    "\n",
    "# You will need to complete this function imported from the ClassifyNB script.\n",
    "# Be sure to change to that code tab to complete this quiz.\n",
    "clf = classify(features_train, labels_train)\n",
    "\n",
    "\n",
    "\n",
    "### draw the decision boundary with the text points overlaid\n",
    "prettyPicture(clf, features_test, labels_test)\n",
    "output_image(\"test.png\", \"png\", open(\"test.png\", \"rb\").read())\n",
    "\n",
    "\n",
    "\"\"\" Complete the code in ClassifyNB.py with the sklearn\n",
    "    Naive Bayes classifier to classify the terrain data.\n",
    "    \n",
    "    The objective of this exercise is to recreate the decision \n",
    "    boundary found in the lesson video, and make a plot that\n",
    "    visually shows the decision boundary \"\"\"\n",
    "\n",
    "\n",
    "from prep_terrain_data import makeTerrainData\n",
    "from class_vis import prettyPicture, output_image\n",
    "from ClassifyNB import classify\n",
    "\n",
    "import numpy as np\n",
    "import pylab as pl\n",
    "\n",
    "\n",
    "features_train, labels_train, features_test, labels_test = makeTerrainData()\n",
    "\n",
    "### the training data (features_train, labels_train) have both \"fast\" and \"slow\" points mixed\n",
    "### in together--separate them so we can give them different colors in the scatterplot,\n",
    "### and visually identify them\n",
    "grade_fast = [features_train[ii][0] for ii in range(0, len(features_train)) if labels_train[ii]==0]\n",
    "bumpy_fast = [features_train[ii][1] for ii in range(0, len(features_train)) if labels_train[ii]==0]\n",
    "grade_slow = [features_train[ii][0] for ii in range(0, len(features_train)) if labels_train[ii]==1]\n",
    "bumpy_slow = [features_train[ii][1] for ii in range(0, len(features_train)) if labels_train[ii]==1]\n",
    "\n",
    "\n",
    "# You will need to complete this function imported from the ClassifyNB script.\n",
    "# Be sure to change to that code tab to complete this quiz.\n",
    "clf = classify(features_train, labels_train)\n",
    "\n",
    "\n",
    "\n",
    "### draw the decision boundary with the text points overlaid\n",
    "prettyPicture(clf, features_test, labels_test)\n",
    "output_image(\"test.png\", \"png\", open(\"test.png\", \"rb\").read())\n",
    "\n",
    "\n",
    "\n",
    "\n",
    "\n"
   ]
  },
  {
   "cell_type": "code",
   "execution_count": null,
   "metadata": {
    "collapsed": true
   },
   "outputs": [],
   "source": []
  }
 ],
 "metadata": {
  "anaconda-cloud": {},
  "kernelspec": {
   "display_name": "Python [conda env:CarND-LeNet-Lab]",
   "language": "python",
   "name": "conda-env-CarND-LeNet-Lab-py"
  },
  "language_info": {
   "codemirror_mode": {
    "name": "ipython",
    "version": 3
   },
   "file_extension": ".py",
   "mimetype": "text/x-python",
   "name": "python",
   "nbconvert_exporter": "python",
   "pygments_lexer": "ipython3",
   "version": "3.5.2"
  }
 },
 "nbformat": 4,
 "nbformat_minor": 2
}
