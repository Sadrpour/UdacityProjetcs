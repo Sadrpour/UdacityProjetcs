{
 "cells": [
  {
   "cell_type": "code",
   "execution_count": 38,
   "metadata": {
    "collapsed": false
   },
   "outputs": [
    {
     "name": "stdout",
     "output_type": "stream",
     "text": [
      "____________________________________________________________________________________________________\n",
      "Layer (type)                     Output Shape          Param #     Connected to                     \n",
      "====================================================================================================\n",
      "lambda_38 (Lambda)               (None, 100, 320, 3)   0           lambda_input_38[0][0]            \n",
      "____________________________________________________________________________________________________\n",
      "averagepooling2d_112 (AveragePoo (None, 50, 160, 3)    0           lambda_38[0][0]                  \n",
      "____________________________________________________________________________________________________\n",
      "convolution2d_97 (Convolution2D) (None, 46, 156, 5)    380         averagepooling2d_112[0][0]       \n",
      "____________________________________________________________________________________________________\n",
      "dropout_83 (Dropout)             (None, 46, 156, 5)    0           convolution2d_97[0][0]           \n",
      "____________________________________________________________________________________________________\n",
      "activation_93 (Activation)       (None, 46, 156, 5)    0           dropout_83[0][0]                 \n",
      "____________________________________________________________________________________________________\n",
      "averagepooling2d_113 (AveragePoo (None, 23, 78, 5)     0           activation_93[0][0]              \n",
      "____________________________________________________________________________________________________\n",
      "convolution2d_98 (Convolution2D) (None, 19, 74, 15)    1890        averagepooling2d_113[0][0]       \n",
      "____________________________________________________________________________________________________\n",
      "dropout_84 (Dropout)             (None, 19, 74, 15)    0           convolution2d_98[0][0]           \n",
      "____________________________________________________________________________________________________\n",
      "activation_94 (Activation)       (None, 19, 74, 15)    0           dropout_84[0][0]                 \n",
      "____________________________________________________________________________________________________\n",
      "convolution2d_99 (Convolution2D) (None, 15, 70, 20)    7520        activation_94[0][0]              \n",
      "____________________________________________________________________________________________________\n",
      "averagepooling2d_114 (AveragePoo (None, 7, 35, 20)     0           convolution2d_99[0][0]           \n",
      "____________________________________________________________________________________________________\n",
      "activation_95 (Activation)       (None, 7, 35, 20)     0           averagepooling2d_114[0][0]       \n",
      "____________________________________________________________________________________________________\n",
      "convolution2d_100 (Convolution2D (None, 3, 31, 25)     12525       activation_95[0][0]              \n",
      "____________________________________________________________________________________________________\n",
      "maxpooling2d_8 (MaxPooling2D)    (None, 1, 15, 25)     0           convolution2d_100[0][0]          \n",
      "____________________________________________________________________________________________________\n",
      "dropout_85 (Dropout)             (None, 1, 15, 25)     0           maxpooling2d_8[0][0]             \n",
      "____________________________________________________________________________________________________\n",
      "activation_96 (Activation)       (None, 1, 15, 25)     0           dropout_85[0][0]                 \n",
      "____________________________________________________________________________________________________\n",
      "flatten_34 (Flatten)             (None, 375)           0           activation_96[0][0]              \n",
      "____________________________________________________________________________________________________\n",
      "dense_54 (Dense)                 (None, 200)           75200       flatten_34[0][0]                 \n",
      "____________________________________________________________________________________________________\n",
      "dropout_86 (Dropout)             (None, 200)           0           dense_54[0][0]                   \n",
      "____________________________________________________________________________________________________\n",
      "dense_55 (Dense)                 (None, 1)             201         dropout_86[0][0]                 \n",
      "====================================================================================================\n",
      "Total params: 97,716\n",
      "Trainable params: 97,716\n",
      "Non-trainable params: 0\n",
      "____________________________________________________________________________________________________\n",
      "Epoch 1/15\n",
      "9s - loss: 0.0384\n",
      "Epoch 2/15\n",
      "9s - loss: 0.0251\n",
      "Epoch 3/15\n",
      "9s - loss: 0.0213\n",
      "Epoch 4/15\n",
      "9s - loss: 0.0183\n",
      "Epoch 5/15\n",
      "9s - loss: 0.0182\n",
      "Epoch 6/15\n",
      "9s - loss: 0.0178\n",
      "Epoch 7/15\n",
      "9s - loss: 0.0174\n",
      "Epoch 8/15\n",
      "9s - loss: 0.0179\n",
      "Epoch 9/15\n",
      "9s - loss: 0.0173\n",
      "Epoch 10/15\n",
      "9s - loss: 0.0175\n",
      "Epoch 11/15\n",
      "9s - loss: 0.0170\n",
      "Epoch 12/15\n",
      "9s - loss: 0.0155\n",
      "Epoch 13/15\n",
      "9s - loss: 0.0170\n",
      "Epoch 14/15\n",
      "9s - loss: 0.0167\n",
      "Epoch 15/15\n",
      "9s - loss: 0.0165\n"
     ]
    }
   ],
   "source": [
    "import numpy as np\n",
    "from keras.models import Model\n",
    "from keras.layers import Input, Dense\n",
    "import pandas as pd\n",
    "import matplotlib.pyplot as plt\n",
    "from keras.utils import np_utils\n",
    "from keras.layers import Conv2D, Flatten\n",
    "from keras.models import Sequential\n",
    "from __future__ import division\n",
    "from keras.layers import Dropout, Lambda, Convolution2D, ELU, Reshape\n",
    "from keras.regularizers import l2, activity_l2\n",
    "from keras.layers import Conv2D, Flatten, MaxPooling2D, Activation,AveragePooling2D \n",
    "import cropping \n",
    "############### data pre-processing #################\n",
    "df = pd.read_csv('./data/driving_log.csv')\n",
    "crop = 60\n",
    "model = Sequential()\n",
    "model.add(Lambda(lambda x: x/128 - 0.5,input_shape = (160-crop, 320, 3)))\n",
    "# model.add(cropping.Cropping2D(cropping=((60,0),(0,0)) ))\n",
    "# keras.layers.pooling.AveragePooling2D(pool_size=(2, 2), strides=None, border_mode='valid', dim_ordering='default')\n",
    "model.add(AveragePooling2D((2,2)))\n",
    "model.add(Conv2D(5, 5, 5,W_regularizer=l2(0.000)))\n",
    "model.add((Dropout(0.5)))\n",
    "model.add(Activation('relu'))\n",
    "model.add(AveragePooling2D((2,2)))\n",
    "model.add(Conv2D(15, 5, 5,W_regularizer=l2(0.000)))\n",
    "model.add((Dropout(0.5)))\n",
    "model.add(Activation('relu'))\n",
    "model.add(Conv2D(20, 5, 5,W_regularizer=l2(0.000)))\n",
    "model.add(AveragePooling2D((2,2)))\n",
    "model.add(Activation('relu'))\n",
    "model.add(Conv2D(25, 5, 5,W_regularizer=l2(0.000)))\n",
    "model.add(MaxPooling2D((2,2)))\n",
    "model.add((Dropout(0.5)))\n",
    "model.add(Activation('relu'))\n",
    "model.add(Flatten())\n",
    "model.add(Dense(200, activation='relu',W_regularizer=l2(0.000)))\n",
    "model.add((Dropout(0.5)))\n",
    "model.add(Dense(1))\n",
    "\n",
    "# model.add(Lambda(lambda x: x/128 - 0.5,input_shape = (160, 320, 3)))\n",
    "# model.add(Convolution2D(24, 5, 5, subsample=(2, 2), border_mode=\"valid\", init='he_normal', input_shape = (160, 320, 3)))\n",
    "# model.add(ELU())\n",
    "# model.add(Convolution2D(36, 5, 5, subsample=(2, 2), border_mode=\"valid\", init='he_normal'))\n",
    "# model.add(ELU())\n",
    "# model.add(Convolution2D(48, 5, 5, subsample=(2, 2), border_mode=\"valid\", init='he_normal'))\n",
    "# model.add(ELU())\n",
    "# model.add(Convolution2D(64, 3, 3, subsample=(1, 1), border_mode=\"valid\", init='he_normal'))\n",
    "# model.add(ELU())\n",
    "# model.add(Convolution2D(64, 3, 3, subsample=(1, 1), border_mode=\"valid\", init='he_normal'))\n",
    "# model.add(Flatten())\n",
    "# model.add(ELU())\n",
    "# model.add(Dense(1164, init='he_normal'))\n",
    "# model.add(ELU())\n",
    "# model.add(Dense(100, init='he_normal'))\n",
    "# model.add(ELU())\n",
    "# model.add(Dense(50, init='he_normal'))\n",
    "# model.add(ELU())\n",
    "# model.add(Dense(10, init='he_normal'))\n",
    "# model.add(ELU())\n",
    "# model.add(Dense(1, init='he_normal'))\n",
    "\n",
    "\n",
    "model.summary()\n",
    "batchSize = 100\n",
    "\n",
    "# model = Sequential()\n",
    "# model.add(Conv2D(3, 10, 10, input_shape=(160, 320, 3), activation='relu'))\n",
    "# model.add(Flatten())\n",
    "# model.add(Dense(1))\n",
    "# model.summary()\n",
    "# model = Model(input=a, output=b)\n",
    "model.compile(loss='mse', optimizer='adam')\n",
    "pos = {0:'left',1:'center',2:'right'}\n",
    "im = plt.imread('./data/'+ str(df.iloc[0]['center']))\n",
    "start = 0 \n",
    "end = start + batchSize\n",
    "df1 = df[df['steering']!=0]\n",
    "df2 = df[df['steering']==0]\n",
    " \n",
    "def generate_data(df,batchSize,pos,im,start,end,df1,df2):\n",
    "    while(True):\n",
    "        indices1 = np.random.choice(len(df1), int(50*batchSize/10))\n",
    "        indices2 = np.random.choice(len(df2), int(50*batchSize/10))\n",
    "        df3 = df1.iloc[indices1].append(df2.iloc[indices2])\n",
    "        xBatch = np.zeros((batchSize, im.shape[0]-crop, im.shape[1], im.shape[2]), dtype=np.float32)\n",
    "        yBatch = np.zeros((batchSize,), dtype=np.float32)\n",
    "        for i in range(batchSize):\n",
    "            view = pos[np.random.choice(3)]\n",
    "#             print(view)\n",
    "            if view == 'left':\n",
    "                yBatch[i] = df3.iloc[i]['steering'] + 0.25                \n",
    "            if view == 'center':\n",
    "                yBatch[i] = df3.iloc[i]['steering'] + 0               \n",
    "            if view == 'right':\n",
    "                yBatch[i] = df3.iloc[i]['steering'] - 0.25                \n",
    "                \n",
    "#             xBatch[i] = (xBatch[i]-128)/128\n",
    "            xBatch[i] = plt.imread('./data/'+ str(df3.iloc[i][view]))[crop:,:,:]\n",
    "#             print(xBatch[i].mean(),yBatch[i].mean())\n",
    "        start = end\n",
    "        end = end + start \n",
    "        if end > len(df3):\n",
    "            start = 0\n",
    "            end = start + batchSize\n",
    "        yield (xBatch,yBatch)\n",
    "\n",
    "model.fit_generator(generate_data(df,batchSize,pos,im,start,end,df1,df2),\n",
    "                    samples_per_epoch=(len(df) // batchSize) * batchSize, nb_epoch=15, verbose = 2)\n",
    "\n",
    "# validation_data=generate_data(pd.read_csv('./data/driving_log.csv'),100),nb_val_samples = 2000\n",
    "\n",
    "model.save_weights('model.h5')  # always save your weights after training or during training\n",
    "with open('model.json', 'w') as outfile:\n",
    "    outfile.write(model.to_json())\n"
   ]
  },
  {
   "cell_type": "code",
   "execution_count": 7,
   "metadata": {
    "collapsed": false
   },
   "outputs": [
    {
     "data": {
      "text/plain": [
       "array([[[ 25,  33,  36],\n",
       "        [  0,   7,  10],\n",
       "        [ 20,  28,  31],\n",
       "        ..., \n",
       "        [104, 113, 118],\n",
       "        [ 91, 100, 105],\n",
       "        [ 76,  85,  90]],\n",
       "\n",
       "       [[  5,  15,  17],\n",
       "        [  0,   2,   7],\n",
       "        [ 12,  21,  26],\n",
       "        ..., \n",
       "        [117, 122,  99],\n",
       "        [107, 112,  89],\n",
       "        [ 96, 102,  76]],\n",
       "\n",
       "       [[  4,  12,  15],\n",
       "        [  6,  15,  20],\n",
       "        [  0,   2,   9],\n",
       "        ..., \n",
       "        [179, 187, 104],\n",
       "        [174, 182,  97],\n",
       "        [174, 180,  94]],\n",
       "\n",
       "       ..., \n",
       "       [[197, 174, 156],\n",
       "        [208, 185, 167],\n",
       "        [216, 193, 175],\n",
       "        ..., \n",
       "        [155, 140, 121],\n",
       "        [161, 146, 127],\n",
       "        [166, 151, 132]],\n",
       "\n",
       "       [[208, 185, 167],\n",
       "        [201, 178, 160],\n",
       "        [185, 164, 147],\n",
       "        ..., \n",
       "        [161, 146, 127],\n",
       "        [157, 142, 123],\n",
       "        [155, 140, 121]],\n",
       "\n",
       "       [[179, 156, 140],\n",
       "        [160, 137, 121],\n",
       "        [137, 116,  99],\n",
       "        ..., \n",
       "        [181, 166, 147],\n",
       "        [174, 159, 140],\n",
       "        [165, 150, 131]]], dtype=uint8)"
      ]
     },
     "execution_count": 7,
     "metadata": {},
     "output_type": "execute_result"
    }
   ],
   "source": [
    "import numpy as np\n",
    "from keras.models import Model\n",
    "from keras.layers import Input, Dense\n",
    "import pandas as pd\n",
    "import matplotlib.pyplot as plt\n",
    "from keras.utils import np_utils\n",
    "from keras.layers import Conv2D, Flatten\n",
    "from keras.models import Sequential\n",
    "from __future__ import division\n",
    "from keras.layers import Dropout, Lambda, Convolution2D, ELU, Reshape\n",
    "from keras.regularizers import l2, activity_l2\n",
    "from keras.layers import Conv2D, Flatten, MaxPooling2D, Activation,AveragePooling2D \n",
    "\n",
    "flags = tf.app.flags\n",
    "FLAGS = flags.FLAGS\n",
    "\n",
    "# command line flags\n",
    "flags.DEFINE_string('training_file', '', \"Bottleneck features training file (.p)\")\n",
    "flags.DEFINE_integer('epoch', 15, \"number of epoches\")\n",
    "flags.DEFINE_integer('batchSize', 100, \"batch size\")\n",
    "flags.DEFINE_integer('cropSize', 60, \"number of epoches\")\n",
    "flags.DEFINE_integer('steerAdjustment', 0.25, \"number of epoches\")\n",
    "flags.DEFINE_integer('oversamplingCoef', 0.8 , \"number of epoches\")\n",
    "\n",
    "\n",
    " \n",
    "def generate_data(df,batchSize,pos,im,start,end,df1,df0,steerAdjustment,crop,oversamplingCoef):\n",
    "    while(True):\n",
    "        indices1 = np.random.choice(len(df1), int(oversamplingCoef*batchSize))\n",
    "        indices2 = np.random.choice(len(df0), int((1-oversamplingCoef)**batchSize))\n",
    "        df3 = df1.iloc[indices1].append(df0.iloc[indices2])\n",
    "        xBatch = np.zeros((batchSize, im.shape[0]-crop, im.shape[1], im.shape[2]), dtype=np.float32)\n",
    "        yBatch = np.zeros((batchSize,), dtype=np.float32)\n",
    "        for i in range(batchSize):\n",
    "            view = pos[np.random.choice(3)]\n",
    "            if view == 'left':\n",
    "                yBatch[i] = df3.iloc[i]['steering'] + steerAdjustment                \n",
    "            if view == 'center':\n",
    "                yBatch[i] = df3.iloc[i]['steering'] + 0               \n",
    "            if view == 'right':\n",
    "                yBatch[i] = df3.iloc[i]['steering'] - steerAdjustment                \n",
    "            xBatch[i] = plt.imread('./data/'+ str(df3.iloc[i][view]))[crop:,:,:]\n",
    "        start = end\n",
    "        end = end + start \n",
    "        if end > len(df3):\n",
    "            start = 0\n",
    "            end = start + batchSize\n",
    "        yield (xBatch,yBatch)\n",
    "\n",
    "\n",
    "def main(_):\n",
    "    df = pd.read_csv('FLAGS.training_file')\n",
    "    batchSize = FLAGS.batchSize\n",
    "    model.compile(loss='mse', optimizer='adam')\n",
    "    pos = {0:'left',1:'center',2:'right'}\n",
    "    im = plt.imread('./data/'+ str(df.iloc[0]['center']))\n",
    "    start = 0 \n",
    "    end = start + batchSize\n",
    "    df1 = df[df['steering']!=0]\n",
    "    df0 = df[df['steering']==0]\n",
    "    crop = FLAGS.cropSize\n",
    "    model = Sequential()\n",
    "    \n",
    "    model.add(Lambda(lambda x: x/128 - 0.5,\n",
    "                     input_shape = (im.shape[0]-crop, im.shape[1], im.shape[2])))\n",
    "    model.add(AveragePooling2D((2,2)))\n",
    "    model.add(Conv2D(5, 5, 5,W_regularizer=l2(0.000)))\n",
    "    model.add((Dropout(0.5)))\n",
    "    model.add(Activation('relu'))\n",
    "    model.add(AveragePooling2D((2,2)))\n",
    "    model.add(Conv2D(15, 5, 5,W_regularizer=l2(0.000)))\n",
    "    model.add((Dropout(0.5)))\n",
    "    model.add(Activation('relu'))\n",
    "    model.add(Conv2D(20, 5, 5,W_regularizer=l2(0.000)))\n",
    "    model.add(AveragePooling2D((2,2)))\n",
    "    model.add(Activation('relu'))\n",
    "    model.add(Conv2D(25, 5, 5,W_regularizer=l2(0.000)))\n",
    "    model.add(MaxPooling2D((2,2)))\n",
    "    model.add((Dropout(0.5)))\n",
    "    model.add(Activation('relu'))\n",
    "    model.add(Flatten())\n",
    "    model.add(Dense(200, activation='relu',W_regularizer=l2(0.000)))\n",
    "    model.add((Dropout(0.5)))\n",
    "    model.add(Dense(1))\n",
    "    model.summary()\n",
    "\n",
    "\n",
    "    model.fit_generator(generate_data(df,\n",
    "                                      batchSize,\n",
    "                                      pos,\n",
    "                                      im,\n",
    "                                      start,\n",
    "                                      end,\n",
    "                                      df1,\n",
    "                                      df0,\n",
    "                                      FLAGS.steerAdjustment,\n",
    "                                      crop,\n",
    "                                      FLAGS.oversamplingCoef),\n",
    "                    samples_per_epoch=(len(df) // batchSize) * batchSize, nb_epoch=1, verbose = 2)\n",
    "\n",
    "    model.save_weights('model.h5')  # always save your weights after training or during training\n",
    "    with open('model.json', 'w') as outfile:\n",
    "        outfile.write(model.to_json())\n",
    "\n",
    "if __name__ == '__main__':\n",
    "    tf.app.run()\n"
   ]
  },
  {
   "cell_type": "code",
   "execution_count": null,
   "metadata": {
    "collapsed": true
   },
   "outputs": [],
   "source": []
  },
  {
   "cell_type": "code",
   "execution_count": 5,
   "metadata": {
    "collapsed": false
   },
   "outputs": [
    {
     "data": {
      "text/plain": [
       "(110, 320, 3)"
      ]
     },
     "execution_count": 5,
     "metadata": {},
     "output_type": "execute_result"
    }
   ],
   "source": [
    "im[50:,:,:].shape"
   ]
  },
  {
   "cell_type": "code",
   "execution_count": null,
   "metadata": {
    "collapsed": false
   },
   "outputs": [],
   "source": [
    "df.iloc[0]"
   ]
  },
  {
   "cell_type": "code",
   "execution_count": null,
   "metadata": {
    "collapsed": false
   },
   "outputs": [],
   "source": [
    "df1 = df[df['steering']!=0]\n",
    "df2 = df[df['steering']==0]\n",
    "# indices1 = np.random.choice(len(df1), int(batchSize/2))\n",
    "# indices2 = np.random.choice(len(df2), int(batchSize/2))\n",
    "# df1.append(df2[indices2])"
   ]
  },
  {
   "cell_type": "code",
   "execution_count": null,
   "metadata": {
    "collapsed": false
   },
   "outputs": [],
   "source": [
    "df = pd.read_csv('./data/driving_log.csv')\n",
    "A = plt.imread('./data/'+ str(df.iloc[0]['center']))"
   ]
  },
  {
   "cell_type": "code",
   "execution_count": null,
   "metadata": {
    "collapsed": false
   },
   "outputs": [],
   "source": [
    "len(df1)/len(df2)"
   ]
  },
  {
   "cell_type": "code",
   "execution_count": null,
   "metadata": {
    "collapsed": false
   },
   "outputs": [],
   "source": [
    "A.shape"
   ]
  },
  {
   "cell_type": "code",
   "execution_count": null,
   "metadata": {
    "collapsed": false
   },
   "outputs": [],
   "source": [
    "% matplotlib inline\n",
    "plt.imshow(A)"
   ]
  },
  {
   "cell_type": "code",
   "execution_count": null,
   "metadata": {
    "collapsed": true
   },
   "outputs": [],
   "source": [
    "from keras.models import Model\n",
    "from keras.layers import Input, Dense\n",
    "\n",
    "a = Input(shape=(160, 320, 3,))\n",
    "b = Dense(32)(a)\n",
    "model = Model(input=a, output=b)"
   ]
  },
  {
   "cell_type": "code",
   "execution_count": null,
   "metadata": {
    "collapsed": true
   },
   "outputs": [],
   "source": [
    "model.compile(self, optimizer, loss, metrics=None, loss_weights=None, sample_weight_mode=None)"
   ]
  },
  {
   "cell_type": "code",
   "execution_count": null,
   "metadata": {
    "collapsed": true
   },
   "outputs": [],
   "source": [
    "model.fit(self, x, y, batch_size=32, nb_epoch=10, verbose=1, callbacks=None,\n",
    "          validation_split=0.0, validation_data=None, shuffle=True,\n",
    "          class_weight=None, sample_weight=None, initial_epoch=0)"
   ]
  },
  {
   "cell_type": "code",
   "execution_count": null,
   "metadata": {
    "collapsed": true
   },
   "outputs": [],
   "source": [
    "fit_generator(self, generator, samples_per_epoch, nb_epoch,\n",
    "              verbose=1, callbacks=None, validation_data=None,\n",
    "              nb_val_samples=None, class_weight=None, max_q_size=10,\n",
    "              nb_worker=1, pickle_safe=False, initial_epoch=0)"
   ]
  },
  {
   "cell_type": "code",
   "execution_count": null,
   "metadata": {
    "collapsed": true
   },
   "outputs": [],
   "source": [
    "df = pd.read_csv('./data/driving_log.csv')"
   ]
  },
  {
   "cell_type": "code",
   "execution_count": null,
   "metadata": {
    "collapsed": false
   },
   "outputs": [],
   "source": [
    "df.iloc[0]"
   ]
  },
  {
   "cell_type": "code",
   "execution_count": null,
   "metadata": {
    "collapsed": false
   },
   "outputs": [],
   "source": [
    "pwd"
   ]
  },
  {
   "cell_type": "code",
   "execution_count": null,
   "metadata": {
    "collapsed": true
   },
   "outputs": [],
   "source": [
    "'./data/'+ str(df.iloc[start:end]['center'])"
   ]
  },
  {
   "cell_type": "code",
   "execution_count": null,
   "metadata": {
    "collapsed": false
   },
   "outputs": [],
   "source": [
    "import numpy as np\n",
    "from keras.models import Model\n",
    "from keras.layers import Input, Dense\n",
    "import pandas as pd\n",
    "import matplotlib.pyplot as plt\n",
    "from keras.utils import np_utils\n",
    "from keras.layers import Conv2D, Flatten\n",
    "from keras.models import Sequential\n",
    "\n",
    "############### data pre-processing #################\n",
    "\n",
    "\n",
    "\n",
    "\n",
    "def generate_data(df,batchSize = 100):\n",
    "    im = plt.imread('./data/'+ str(df.iloc[0]['center']))\n",
    "    start = 0 \n",
    "    end = start + batchSize\n",
    "    while(True):\n",
    "        xBatch = np.zeros((batchSize, im.shape[0], im.shape[1], im.shape[2]), dtype=np.float32)\n",
    "        yBatch = np.zeros((batchSize,), dtype=np.float32)\n",
    "        for i in range(start,end):\n",
    "            xBatch[i] = plt.imread('./data/'+ str(df.iloc[i]['center']))\n",
    "            yBatch[i] = df.iloc[i]['steering']\n",
    "        if end > len(df):\n",
    "            start = 0\n",
    "            end = start + batchSize\n",
    "        start = end\n",
    "        end = end + start \n",
    "        yield (xBatch,yBatch)\n",
    "        \n",
    "A = generate_data(pd.read_csv('./data/driving_log.csv'),100)\n",
    "next(A)"
   ]
  },
  {
   "cell_type": "code",
   "execution_count": null,
   "metadata": {
    "collapsed": false
   },
   "outputs": [],
   "source": [
    "import numpy as np\n",
    "from keras.models import Model\n",
    "from keras.layers import Input, Dense\n",
    "import pandas as pd\n",
    "import matplotlib.pyplot as plt\n",
    "from keras.utils import np_utils\n",
    "from keras.layers import Conv2D, Flatten\n",
    "from keras.models import Sequential\n",
    "from __future__ import division\n",
    "############### data pre-processing #################\n",
    "\n",
    "\n",
    "\n",
    "# model = Model(input=a, output=b)\n",
    "model.compile(loss='mean_squared_error', optimizer='adam')\n",
    "def generate_data(df,batchSize):\n",
    "    im = plt.imread('./data/'+ str(df.iloc[0]['center']))\n",
    "    start = 0 \n",
    "    end = start + batchSize\n",
    "    while(True):\n",
    "        xBatch = np.zeros((batchSize, im.shape[0], im.shape[1], im.shape[2]), dtype=np.float32)\n",
    "        yBatch = np.zeros((batchSize,), dtype=np.float32)\n",
    "        for i in range(batchSize):\n",
    "            xBatch[i] = plt.imread('./data/'+ str(df.iloc[start+i]['center']))\n",
    "            xBatch[i] = (xBatch[i]-128)/128\n",
    "            yBatch[i] = df.iloc[start+i]['steering']\n",
    "        start = end\n",
    "        end = end + start \n",
    "        if end > len(df):\n",
    "            start = 0\n",
    "            end = start + batchSize\n",
    "        yield (xBatch,yBatch)\n",
    "        \n",
    "A = generate_data(pd.read_csv('./data/driving_log.csv'),50)\n"
   ]
  },
  {
   "cell_type": "code",
   "execution_count": null,
   "metadata": {
    "collapsed": false
   },
   "outputs": [],
   "source": []
  },
  {
   "cell_type": "code",
   "execution_count": null,
   "metadata": {
    "collapsed": false
   },
   "outputs": [],
   "source": [
    "pwd"
   ]
  },
  {
   "cell_type": "code",
   "execution_count": 3,
   "metadata": {
    "collapsed": false
   },
   "outputs": [
    {
     "name": "stdout",
     "output_type": "stream",
     "text": [
      "____________________________________________________________________________________________________\n",
      "Layer (type)                     Output Shape          Param #     Connected to                     \n",
      "====================================================================================================\n",
      "lambda_3 (Lambda)                (None, 160, 320, 3)   0           lambda_input_3[0][0]             \n",
      "____________________________________________________________________________________________________\n",
      "cropping2d_3 (Cropping2D)        (None, 100, 320, 3)   0           lambda_3[0][0]                   \n",
      "____________________________________________________________________________________________________\n",
      "averagepooling2d_7 (AveragePooli (None, 25, 53, 3)     0           cropping2d_3[0][0]               \n",
      "____________________________________________________________________________________________________\n",
      "convolution2d_5 (Convolution2D)  (None, 21, 49, 4)     304         averagepooling2d_7[0][0]         \n",
      "____________________________________________________________________________________________________\n",
      "averagepooling2d_8 (AveragePooli (None, 7, 16, 4)      0           convolution2d_5[0][0]            \n",
      "____________________________________________________________________________________________________\n",
      "activation_5 (Activation)        (None, 7, 16, 4)      0           averagepooling2d_8[0][0]         \n",
      "____________________________________________________________________________________________________\n",
      "convolution2d_6 (Convolution2D)  (None, 3, 12, 8)      808         activation_5[0][0]               \n",
      "____________________________________________________________________________________________________\n",
      "activation_6 (Activation)        (None, 3, 12, 8)      0           convolution2d_6[0][0]            \n",
      "____________________________________________________________________________________________________\n",
      "averagepooling2d_9 (AveragePooli (None, 1, 4, 8)       0           activation_6[0][0]               \n",
      "____________________________________________________________________________________________________\n",
      "flatten_3 (Flatten)              (None, 32)            0           averagepooling2d_9[0][0]         \n",
      "____________________________________________________________________________________________________\n",
      "dense_5 (Dense)                  (None, 48)            1584        flatten_3[0][0]                  \n",
      "____________________________________________________________________________________________________\n",
      "dense_6 (Dense)                  (None, 1)             49          dense_5[0][0]                    \n",
      "====================================================================================================\n",
      "Total params: 2,745\n",
      "Trainable params: 2,745\n",
      "Non-trainable params: 0\n",
      "____________________________________________________________________________________________________\n",
      "Epoch 1/10\n",
      "10s - loss: 0.0168\n",
      "Epoch 2/10\n",
      "9s - loss: 0.0107\n",
      "Epoch 3/10\n",
      "9s - loss: 0.0097\n",
      "Epoch 4/10\n",
      "9s - loss: 0.0090\n",
      "Epoch 5/10\n",
      "9s - loss: 0.0088\n",
      "Epoch 6/10\n",
      "9s - loss: 0.0084\n",
      "Epoch 7/10\n",
      "9s - loss: 0.0083\n",
      "Epoch 8/10\n",
      "9s - loss: 0.0076\n",
      "Epoch 9/10\n",
      "10s - loss: 0.0077\n",
      "Epoch 10/10\n",
      "9s - loss: 0.0078\n"
     ]
    }
   ],
   "source": [
    "import numpy as np\n",
    "from keras.models import Model\n",
    "from keras.layers import Input, Dense\n",
    "import pandas as pd\n",
    "import matplotlib.pyplot as plt\n",
    "from keras.utils import np_utils\n",
    "from keras.layers import Conv2D, Flatten\n",
    "from keras.models import Sequential\n",
    "from __future__ import division\n",
    "from keras.layers import Dropout, Lambda, Convolution2D, ELU, Reshape\n",
    "from keras.regularizers import l2, activity_l2\n",
    "from keras.layers import Conv2D, Flatten, MaxPooling2D, Activation,AveragePooling2D \n",
    "import cropping \n",
    "############### data pre-processing #################\n",
    "df = pd.read_csv('./data/driving_log.csv')\n",
    "\n",
    "model = Sequential()\n",
    "model.add(Lambda(lambda x: x/128 - 0.5,input_shape = (160, 320, 3)))\n",
    "model.add(cropping.Cropping2D(cropping=((60,0),(0,0)) ))\n",
    "# keras.layers.pooling.AveragePooling2D(pool_size=(2, 2), strides=None, border_mode='valid', dim_ordering='default')\n",
    "model.add(AveragePooling2D((4,6)))\n",
    "model.add(Conv2D(4, 5, 5,W_regularizer=l2(0.000)))\n",
    "model.add(AveragePooling2D((3,3)))\n",
    "# model.add((Dropout(0.5)))\n",
    "model.add(Activation('relu'))\n",
    "model.add(Conv2D(8, 5, 5,W_regularizer=l2(0.000)))\n",
    "# # model.add((Dropout(0.5)))\n",
    "model.add(Activation('relu'))\n",
    "# model.add(Conv2D(12, 5, 5,W_regularizer=l2(0.000)))\n",
    "model.add(AveragePooling2D((3,3)))\n",
    "# model.add(Activation('relu'))\n",
    "# model.add(Conv2D(16, 5, 5,W_regularizer=l2(0.000)))\n",
    "# model.add(MaxPooling2D((2,4)))\n",
    "# # model.add((Dropout(0.5)))\n",
    "# model.add(Activation('relu'))\n",
    "model.add(Flatten())\n",
    "model.add(Dense(48, activation='relu',W_regularizer=l2(0.000)))\n",
    "# model.add((Dropout(0.5)))\n",
    "model.add(Dense(1))\n",
    "\n",
    "# model.add(Lambda(lambda x: x/128 - 0.5,input_shape = (160, 320, 3)))\n",
    "# model.add(Convolution2D(24, 5, 5, subsample=(2, 2), border_mode=\"valid\", init='he_normal', input_shape = (160, 320, 3)))\n",
    "# model.add(ELU())\n",
    "# model.add(Convolution2D(36, 5, 5, subsample=(2, 2), border_mode=\"valid\", init='he_normal'))\n",
    "# model.add(ELU())\n",
    "# model.add(Convolution2D(48, 5, 5, subsample=(2, 2), border_mode=\"valid\", init='he_normal'))\n",
    "# model.add(ELU())\n",
    "# model.add(Convolution2D(64, 3, 3, subsample=(1, 1), border_mode=\"valid\", init='he_normal'))\n",
    "# model.add(ELU())\n",
    "# model.add(Convolution2D(64, 3, 3, subsample=(1, 1), border_mode=\"valid\", init='he_normal'))\n",
    "# model.add(Flatten())\n",
    "# model.add(ELU())\n",
    "# model.add(Dense(1164, init='he_normal'))\n",
    "# model.add(ELU())\n",
    "# model.add(Dense(100, init='he_normal'))\n",
    "# model.add(ELU())\n",
    "# model.add(Dense(50, init='he_normal'))\n",
    "# model.add(ELU())\n",
    "# model.add(Dense(10, init='he_normal'))\n",
    "# model.add(ELU())\n",
    "# model.add(Dense(1, init='he_normal'))\n",
    "\n",
    "\n",
    "model.summary()\n",
    "batchSize = 50\n",
    "\n",
    "# model = Sequential()\n",
    "# model.add(Conv2D(3, 10, 10, input_shape=(160, 320, 3), activation='relu'))\n",
    "# model.add(Flatten())\n",
    "# model.add(Dense(1))\n",
    "# model.summary()\n",
    "# model = Model(input=a, output=b)\n",
    "model.compile(loss='mse', optimizer='adam')\n",
    "pos = {0:'left',1:'center',2:'right'}\n",
    "im = plt.imread('./data/'+ str(df.iloc[0]['center']))\n",
    "start = 0 \n",
    "end = start + batchSize\n",
    "df1 = df[df['steering']!=0]\n",
    "df2 = df[df['steering']==0]\n",
    "\n",
    "def generate_data(df,batchSize,pos,im,start,end,df1,df2):\n",
    "    while(True):\n",
    "        indices1 = np.random.choice(len(df1), int(3*batchSize/10))\n",
    "        indices2 = np.random.choice(len(df2), int(7*batchSize/10))\n",
    "        df3 = df1.iloc[indices1].append(df2.iloc[indices2])\n",
    "        xBatch = np.zeros((batchSize, im.shape[0], im.shape[1], im.shape[2]), dtype=np.float32)\n",
    "        yBatch = np.zeros((batchSize,), dtype=np.float32)\n",
    "        for i in range(batchSize):\n",
    "            view = pos[np.random.choice(3)]\n",
    "#             print(view)\n",
    "            if view == 'left':\n",
    "                yBatch[i] = df3.iloc[i]['steering'] + 0.2                \n",
    "                xBatch[i] = plt.imread('./data/'+ str(df3.iloc[i][view]))\n",
    "            if view == 'center':\n",
    "                yBatch[i] = df3.iloc[i]['steering'] + 0               \n",
    "                xBatch[i] = plt.imread('./data/'+ str(df3.iloc[i][view]))\n",
    "            if view == 'right':\n",
    "                yBatch[i] = df3.iloc[i]['steering'] - 0.2                \n",
    "                xBatch[i] = plt.imread('./data/'+ str(df3.iloc[i][view]))\n",
    "#             xBatch[i] = (xBatch[i]-128)/128\n",
    "\n",
    "#             print(xBatch[i].mean(),yBatch[i].mean())\n",
    "        start = end\n",
    "        end = end + start \n",
    "        if end > len(df3):\n",
    "            start = 0\n",
    "            end = start + batchSize\n",
    "        yield (xBatch,yBatch)\n",
    "\n",
    "model.fit_generator(generate_data(df,batchSize,pos,im,start,end,df1,df2),\n",
    "                    samples_per_epoch=(len(df) // batchSize) * batchSize, nb_epoch=10, verbose = 2)\n",
    "\n",
    "# validation_data=generate_data(pd.read_csv('./data/driving_log.csv'),100),nb_val_samples = 2000\n",
    "\n",
    "model.save_weights('model.h5')  # always save your weights after training or during training\n",
    "with open('model.json', 'w') as outfile:\n",
    "    outfile.write(model.to_json())\n"
   ]
  },
  {
   "cell_type": "code",
   "execution_count": null,
   "metadata": {
    "collapsed": false
   },
   "outputs": [],
   "source": [
    "pos = {0:'left',1:'center',2:'right'}\n",
    "im = plt.imread('./data/'+ str(df.iloc[0]['center']))\n",
    "start = 0 \n",
    "end = start + batchSize\n",
    "df1 = df[df['steering']!=0]\n",
    "df2 = df[df['steering']==0]\n",
    "while(True):\n",
    "    indices1 = np.random.choice(len(df1), int(3*batchSize/10))\n",
    "    indices2 = np.random.choice(len(df2), int(7*batchSize/10))\n",
    "    df3 = df1.iloc[indices1].append(df2.iloc[indices2])\n",
    "    xBatch = np.zeros((batchSize, im.shape[0], im.shape[1], im.shape[2]), dtype=np.float32)\n",
    "    yBatch = np.zeros((batchSize,), dtype=np.float32)\n",
    "    for i in range(batchSize):\n",
    "        view = pos[np.random.choice(3)]\n",
    "        print(view)\n",
    "        if view == 'left':\n",
    "            yBatch[i] = df3.iloc[i]['steering'] + 0.1                \n",
    "            xBatch[i] = plt.imread('./data/'+ str(df3.iloc[i][view]))\n",
    "        if view == 'center':\n",
    "            yBatch[i] = df3.iloc[i]['steering'] + 0               \n",
    "            xBatch[i] = plt.imread('./data/'+ str(df3.iloc[i][view]))\n",
    "        if view == 'right':\n",
    "            yBatch[i] = df3.iloc[i]['steering'] - 0.1                \n",
    "            xBatch[i] = plt.imread('./data/'+ str(df3.iloc[i][view]))"
   ]
  },
  {
   "cell_type": "code",
   "execution_count": null,
   "metadata": {
    "collapsed": false
   },
   "outputs": [],
   "source": [
    "'./data/'+ str(df.iloc[i]['right'])"
   ]
  },
  {
   "cell_type": "code",
   "execution_count": null,
   "metadata": {
    "collapsed": false
   },
   "outputs": [],
   "source": [
    "plt.imread('./data/'+ str(df3.iloc[i]['center']))"
   ]
  },
  {
   "cell_type": "code",
   "execution_count": null,
   "metadata": {
    "collapsed": false
   },
   "outputs": [],
   "source": [
    "df"
   ]
  },
  {
   "cell_type": "code",
   "execution_count": null,
   "metadata": {
    "collapsed": false
   },
   "outputs": [],
   "source": [
    "plt.imread('./data/'+ str(df3.iloc[i][view]))"
   ]
  },
  {
   "cell_type": "code",
   "execution_count": null,
   "metadata": {
    "collapsed": true
   },
   "outputs": [],
   "source": [
    "pos = {0:'left',1:'center',2:'right'}"
   ]
  },
  {
   "cell_type": "code",
   "execution_count": null,
   "metadata": {
    "collapsed": false
   },
   "outputs": [],
   "source": [
    "for i in range(10):\n",
    "    print(pos[np.random.choice(3)])"
   ]
  },
  {
   "cell_type": "code",
   "execution_count": null,
   "metadata": {
    "collapsed": false
   },
   "outputs": [],
   "source": [
    "np.random.choice(2)"
   ]
  },
  {
   "cell_type": "code",
   "execution_count": null,
   "metadata": {
    "collapsed": false
   },
   "outputs": [],
   "source": [
    "batchSize = 100\n",
    "import numpy as np\n",
    "df1 = df[df['steering']!=0]\n",
    "df2 = df[df['steering']==0]\n",
    "\n",
    "indices1 = np.random.choice(len(df1), int(batchSize/2))\n",
    "indices2 = np.random.choice(len(df2), int(batchSize/2))\n",
    "df3 = df1.iloc[indices1].append(df2.iloc[indices2])"
   ]
  },
  {
   "cell_type": "code",
   "execution_count": null,
   "metadata": {
    "collapsed": false
   },
   "outputs": [],
   "source": [
    "import numpy as np\n",
    "np.arange(0,len(pd.read_csv('./data/driving_log.csv')),1000)"
   ]
  },
  {
   "cell_type": "code",
   "execution_count": null,
   "metadata": {
    "collapsed": false
   },
   "outputs": [],
   "source": [
    "import numpy as np\n",
    "from keras.models import Model\n",
    "from keras.layers import Input, Dense\n",
    "import pandas as pd\n",
    "import matplotlib.pyplot as plt\n",
    "from keras.utils import np_utils\n",
    "from keras.layers import Conv2D, Flatten\n",
    "from keras.models import Sequential\n",
    "from __future__ import division\n",
    "from keras.layers import Dropout, Lambda, Convolution2D, ELU, Reshape\n",
    "from keras.regularizers import l2, activity_l2\n",
    "from keras.layers import Conv2D, Flatten, MaxPooling2D, Activation,AveragePooling2D \n",
    "############### data pre-processing #################\n",
    "df = pd.read_csv('./data/driving_log.csv')\n",
    "batchSize = 50\n",
    "model = Sequential()\n",
    "model.add(Lambda(lambda x: x/128 - 0.5,input_shape = (160, 320, 3)))\n",
    "# keras.layers.pooling.AveragePooling2D(pool_size=(2, 2), strides=None, border_mode='valid', dim_ordering='default')\n",
    "model.add(AveragePooling2D((4,6)))\n",
    "model.add(Conv2D(4, 5, 5,W_regularizer=l2(0.000)))\n",
    "model.add(MaxPooling2D((3,3)))\n",
    "# model.add((Dropout(0.5)))\n",
    "model.add(Activation('relu'))\n",
    "model.add(Conv2D(8, 5, 5,W_regularizer=l2(0.000)))\n",
    "# # model.add((Dropout(0.5)))\n",
    "model.add(Activation('relu'))\n",
    "# model.add(Conv2D(12, 5, 5,W_regularizer=l2(0.000)))\n",
    "model.add(MaxPooling2D((3,3)))\n",
    "# model.add(Activation('relu'))\n",
    "# model.add(Conv2D(16, 5, 5,W_regularizer=l2(0.000)))\n",
    "# model.add(MaxPooling2D((2,4)))\n",
    "# # model.add((Dropout(0.5)))\n",
    "# model.add(Activation('relu'))\n",
    "model.add(Flatten())\n",
    "model.add(Dense(48, activation='relu',W_regularizer=l2(0.000)))\n",
    "# model.add((Dropout(0.5)))\n",
    "model.add(Dense(1))\n",
    "\n",
    "# model.add(Lambda(lambda x: x/128 - 0.5,input_shape = (160, 320, 3)))\n",
    "# model.add(Convolution2D(24, 5, 5, subsample=(2, 2), border_mode=\"valid\", init='he_normal', input_shape = (160, 320, 3)))\n",
    "# model.add(ELU())\n",
    "# model.add(Convolution2D(36, 5, 5, subsample=(2, 2), border_mode=\"valid\", init='he_normal'))\n",
    "# model.add(ELU())\n",
    "# model.add(Convolution2D(48, 5, 5, subsample=(2, 2), border_mode=\"valid\", init='he_normal'))\n",
    "# model.add(ELU())\n",
    "# model.add(Convolution2D(64, 3, 3, subsample=(1, 1), border_mode=\"valid\", init='he_normal'))\n",
    "# model.add(ELU())\n",
    "# model.add(Convolution2D(64, 3, 3, subsample=(1, 1), border_mode=\"valid\", init='he_normal'))\n",
    "# model.add(Flatten())\n",
    "# model.add(ELU())\n",
    "# model.add(Dense(1164, init='he_normal'))\n",
    "# model.add(ELU())\n",
    "# model.add(Dense(100, init='he_normal'))\n",
    "# model.add(ELU())\n",
    "# model.add(Dense(50, init='he_normal'))\n",
    "# model.add(ELU())\n",
    "# model.add(Dense(10, init='he_normal'))\n",
    "# model.add(ELU())\n",
    "# model.add(Dense(1, init='he_normal'))\n",
    "\n",
    "\n",
    "model.summary()\n",
    "\n",
    "\n",
    "# model = Sequential()\n",
    "# model.add(Conv2D(3, 10, 10, input_shape=(160, 320, 3), activation='relu'))\n",
    "# model.add(Flatten())\n",
    "# model.add(Dense(1))\n",
    "# model.summary()\n",
    "# model = Model(input=a, output=b)\n",
    "model.compile(loss='mse', optimizer='adam')\n",
    "def generate_data(df,batchSize = batchSize):\n",
    "    im = plt.imread('./data/'+ str(df.iloc[0]['center']))\n",
    "    start = 0 \n",
    "    end = start + batchSize\n",
    "    df1 = df[df['steering']!=0]\n",
    "    df2 = df[df['steering']==0]\n",
    "    while(True):\n",
    "        indices1 = np.random.choice(len(df1), int(3*batchSize/10))\n",
    "        indices2 = np.random.choice(len(df2), int(7*batchSize/10))\n",
    "        df3 = df1.iloc[indices1].append(df2.iloc[indices2])\n",
    "        xBatch = np.zeros((batchSize, im.shape[0], im.shape[1], im.shape[2]), dtype=np.float32)\n",
    "        yBatch = np.zeros((batchSize,), dtype=np.float32)\n",
    "        for i in range(batchSize):\n",
    "            xBatch[i] = plt.imread('./data/'+ str(df3.iloc[i]['center']))\n",
    "#             xBatch[i] = (xBatch[i]-128)/128\n",
    "            yBatch[i] = df3.iloc[i]['steering']\n",
    "#             print(xBatch[i].mean(),yBatch[i].mean())\n",
    "        start = end\n",
    "        end = end + start \n",
    "        if end > len(df3):\n",
    "            start = 0\n",
    "            end = start + batchSize\n",
    "        yield (xBatch,yBatch)\n",
    "\n",
    "model.fit_generator(generate_data(df,200),\n",
    "                    samples_per_epoch=(len(df) // batchSize) * batchSize, nb_epoch=20, verbose = 2)\n",
    "\n",
    "# validation_data=generate_data(pd.read_csv('./data/driving_log.csv'),100),nb_val_samples = 2000\n",
    "\n",
    "model.save_weights('model.h5')  # always save your weights after training or during training\n",
    "with open('model.json', 'w') as outfile:\n",
    "    outfile.write(model.to_json())"
   ]
  },
  {
   "cell_type": "code",
   "execution_count": null,
   "metadata": {
    "collapsed": false
   },
   "outputs": [],
   "source": [
    "import numpy as np\n",
    "from keras.models import Model\n",
    "from keras.layers import Input, Dense\n",
    "import pandas as pd\n",
    "import matplotlib.pyplot as plt\n",
    "from keras.utils import np_utils\n",
    "from keras.layers import Conv2D, Flatten\n",
    "from keras.models import Sequential\n",
    "from __future__ import division\n",
    "from keras.layers import Dropout, Lambda, Convolution2D, ELU, Reshape\n",
    "from keras.regularizers import l2, activity_l2\n",
    "from keras.layers import Conv2D, Flatten, MaxPooling2D, Activation,AveragePooling2D \n",
    "############### data pre-processing #################\n",
    "df = pd.read_csv('./data/driving_log.csv')\n",
    "batchSize = 50\n",
    "model = Sequential()\n",
    "model.add(Lambda(lambda x: x/128 - 0.5,input_shape = (160, 320, 3)))\n",
    "# keras.layers.pooling.AveragePooling2D(pool_size=(2, 2), strides=None, border_mode='valid', dim_ordering='default')\n",
    "model.add(AveragePooling2D((4,6)))\n",
    "model.add(Conv2D(4, 5, 5,W_regularizer=l2(0.000)))\n",
    "model.add(MaxPooling2D((3,3)))\n",
    "# model.add((Dropout(0.5)))\n",
    "model.add(Activation('relu'))\n",
    "model.add(Conv2D(8, 5, 5,W_regularizer=l2(0.000)))\n",
    "# # model.add((Dropout(0.5)))\n",
    "model.add(Activation('relu'))\n",
    "# model.add(Conv2D(12, 5, 5,W_regularizer=l2(0.000)))\n",
    "model.add(MaxPooling2D((3,3)))\n",
    "# model.add(Activation('relu'))\n",
    "# model.add(Conv2D(16, 5, 5,W_regularizer=l2(0.000)))\n",
    "# model.add(MaxPooling2D((2,4)))\n",
    "# # model.add((Dropout(0.5)))\n",
    "# model.add(Activation('relu'))\n",
    "model.add(Flatten())\n",
    "model.add(Dense(48, activation='relu',W_regularizer=l2(0.000)))\n",
    "# model.add((Dropout(0.5)))\n",
    "model.add(Dense(1))\n",
    "\n",
    "# model.add(Lambda(lambda x: x/128 - 0.5,input_shape = (160, 320, 3)))\n",
    "# model.add(Convolution2D(24, 5, 5, subsample=(2, 2), border_mode=\"valid\", init='he_normal', input_shape = (160, 320, 3)))\n",
    "# model.add(ELU())\n",
    "# model.add(Convolution2D(36, 5, 5, subsample=(2, 2), border_mode=\"valid\", init='he_normal'))\n",
    "# model.add(ELU())\n",
    "# model.add(Convolution2D(48, 5, 5, subsample=(2, 2), border_mode=\"valid\", init='he_normal'))\n",
    "# model.add(ELU())\n",
    "# model.add(Convolution2D(64, 3, 3, subsample=(1, 1), border_mode=\"valid\", init='he_normal'))\n",
    "# model.add(ELU())\n",
    "# model.add(Convolution2D(64, 3, 3, subsample=(1, 1), border_mode=\"valid\", init='he_normal'))\n",
    "# model.add(Flatten())\n",
    "# model.add(ELU())\n",
    "# model.add(Dense(1164, init='he_normal'))\n",
    "# model.add(ELU())\n",
    "# model.add(Dense(100, init='he_normal'))\n",
    "# model.add(ELU())\n",
    "# model.add(Dense(50, init='he_normal'))\n",
    "# model.add(ELU())\n",
    "# model.add(Dense(10, init='he_normal'))\n",
    "# model.add(ELU())\n",
    "# model.add(Dense(1, init='he_normal'))\n",
    "\n",
    "\n",
    "model.summary()\n",
    "\n",
    "\n",
    "# model = Sequential()\n",
    "# model.add(Conv2D(3, 10, 10, input_shape=(160, 320, 3), activation='relu'))\n",
    "# model.add(Flatten())\n",
    "# model.add(Dense(1))\n",
    "# model.summary()\n",
    "# model = Model(input=a, output=b)\n",
    "model.compile(loss='mse', optimizer='adam')\n",
    "def generate_data(df,batchSize = batchSize):\n",
    "    pos = {1:'left',2:'center',3:'right'}\n",
    "    im = plt.imread('./data/'+ str(df.iloc[0]['center']))\n",
    "    start = 0 \n",
    "    end = start + batchSize\n",
    "    df1 = df[df['steering']!=0]\n",
    "    df2 = df[df['steering']==0]\n",
    "    while(True):\n",
    "        indices1 = np.random.choice(len(df1), int(3*batchSize/10))\n",
    "        indices2 = np.random.choice(len(df2), int(7*batchSize/10))\n",
    "        df3 = df1.iloc[indices1].append(df2.iloc[indices2])\n",
    "        xBatch = np.zeros((batchSize, im.shape[0], im.shape[1], im.shape[2]), dtype=np.float32)\n",
    "        yBatch = np.zeros((batchSize,), dtype=np.float32)\n",
    "        for i in range(batchSize):\n",
    "            xBatch[i] = plt.imread('./data/'+ str(df3.iloc[i]['center']))\n",
    "#             xBatch[i] = (xBatch[i]-128)/128\n",
    "            yBatch[i] = df3.iloc[i]['steering']\n",
    "#             print(xBatch[i].mean(),yBatch[i].mean())\n",
    "        start = end\n",
    "        end = end + start \n",
    "        if end > len(df3):\n",
    "            start = 0\n",
    "            end = start + batchSize\n",
    "        yield (xBatch,yBatch)\n",
    "\n",
    "model.fit_generator(generate_data(df,200),\n",
    "                    samples_per_epoch=(len(df) // batchSize) * batchSize, nb_epoch=20, verbose = 2)\n",
    "\n",
    "# validation_data=generate_data(pd.read_csv('./data/driving_log.csv'),100),nb_val_samples = 2000\n",
    "\n",
    "model.save_weights('model.h5')  # always save your weights after training or during training\n",
    "with open('model.json', 'w') as outfile:\n",
    "    outfile.write(model.to_json())"
   ]
  },
  {
   "cell_type": "code",
   "execution_count": null,
   "metadata": {
    "collapsed": true
   },
   "outputs": [],
   "source": [
    "np.random.choice(2, 1)"
   ]
  },
  {
   "cell_type": "code",
   "execution_count": null,
   "metadata": {
    "collapsed": false
   },
   "outputs": [],
   "source": [
    "model.predict_generator(generate_data(pd.read_csv('./data/driving_log.csv'),10),200)"
   ]
  },
  {
   "cell_type": "code",
   "execution_count": null,
   "metadata": {
    "collapsed": false
   },
   "outputs": [],
   "source": [
    "model.save_weights('model.h5')  # always save your weights after training or during training\n",
    "with open('model.json', 'w') as outfile:\n",
    "    outfile.write(model.to_json())"
   ]
  },
  {
   "cell_type": "code",
   "execution_count": null,
   "metadata": {
    "collapsed": false
   },
   "outputs": [],
   "source": [
    "from keras.models import Model\n",
    "from keras.layers import Input, Dense\n",
    "import pandas as pd\n",
    "import matplotlib.pyplot as plt\n",
    "from keras.utils import np_utils\n",
    "from keras.layers import Conv2D, Flatten\n",
    "from keras.models import Sequential\n",
    "def generate_data(df):\n",
    "    while(True):\n",
    "        for line in range(len(df)):\n",
    "            # create numpy arrays of input data\n",
    "            # and labels, from each line in the file\n",
    "            im = plt.imread('./data/'+ str(df.iloc[line]['center']))\n",
    "            im = im.reshape(1, im.shape[0], im.shape[1], im.shape[2])\n",
    "            steer = df.iloc[line]['steering']\n",
    "            steer = steer.reshape(1)\n",
    "            yield (im,steer)\n",
    "A = generate_data(pd.read_csv('./data/driving_log.csv'))\n",
    "\n",
    "counter = 0 \n",
    "for i in range(100):\n",
    "    print(next(A)[1])\n",
    "#     break"
   ]
  },
  {
   "cell_type": "code",
   "execution_count": null,
   "metadata": {
    "collapsed": false
   },
   "outputs": [],
   "source": [
    "next(A)"
   ]
  },
  {
   "cell_type": "code",
   "execution_count": null,
   "metadata": {
    "collapsed": false
   },
   "outputs": [],
   "source": [
    "next(A)"
   ]
  },
  {
   "cell_type": "code",
   "execution_count": null,
   "metadata": {
    "collapsed": false
   },
   "outputs": [],
   "source": [
    "next(A)"
   ]
  },
  {
   "cell_type": "code",
   "execution_count": null,
   "metadata": {
    "collapsed": false
   },
   "outputs": [],
   "source": [
    "L = [1,2,3,4,5]\n",
    "def generate_data(L):\n",
    "    for i in L:\n",
    "        yield i\n",
    "        \n",
    "for i in generate_data(L):\n",
    "    print(i)\n",
    "\n",
    "A = generate_data(L) \n",
    "next(A)"
   ]
  },
  {
   "cell_type": "code",
   "execution_count": null,
   "metadata": {
    "collapsed": false
   },
   "outputs": [],
   "source": [
    "import pandas as pd\n",
    "df = pd.read_csv('./data/driving_log.csv')\n",
    "for i in range(len(df)):\n",
    "    if i < 100:\n",
    "        print(i,df.iloc[i])"
   ]
  },
  {
   "cell_type": "code",
   "execution_count": null,
   "metadata": {
    "collapsed": false
   },
   "outputs": [],
   "source": [
    "model.predict_generator(generate_data(pd.read_csv('./data/driving_log.csv')),20)"
   ]
  },
  {
   "cell_type": "code",
   "execution_count": null,
   "metadata": {
    "collapsed": false
   },
   "outputs": [],
   "source": [
    "next(A)"
   ]
  },
  {
   "cell_type": "code",
   "execution_count": null,
   "metadata": {
    "collapsed": false
   },
   "outputs": [],
   "source": []
  },
  {
   "cell_type": "code",
   "execution_count": null,
   "metadata": {
    "collapsed": false
   },
   "outputs": [],
   "source": [
    "model.evaluate_generator(generate_arrays_from_file('./data/driving_log.csv'),100)"
   ]
  },
  {
   "cell_type": "code",
   "execution_count": null,
   "metadata": {
    "collapsed": true
   },
   "outputs": [],
   "source": [
    "def generate_arrays_from_file(path):\n",
    "    while 1:\n",
    "    f = open(path)\n",
    "    for line in f:\n",
    "        # create numpy arrays of input data\n",
    "        # and labels, from each line in the file\n",
    "        x1, x2, y = process_line(line)\n",
    "        yield ({'input_1': x1, 'input_2': x2}, {'output': y})\n",
    "    f.close()\n",
    "\n",
    "model.fit_generator(generate_arrays_from_file('/my_file.txt'),\n",
    "        samples_per_epoch=10000, nb_epoch=10)"
   ]
  },
  {
   "cell_type": "code",
   "execution_count": null,
   "metadata": {
    "collapsed": true
   },
   "outputs": [],
   "source": [
    "evaluate_generator(self, generator, val_samples, max_q_size=10, nb_worker=1, pickle_safe=False)"
   ]
  },
  {
   "cell_type": "code",
   "execution_count": null,
   "metadata": {
    "collapsed": false
   },
   "outputs": [],
   "source": [
    "len(df)"
   ]
  },
  {
   "cell_type": "code",
   "execution_count": null,
   "metadata": {
    "collapsed": true
   },
   "outputs": [],
   "source": []
  }
 ],
 "metadata": {
  "anaconda-cloud": {},
  "kernelspec": {
   "display_name": "Python [conda env:CarND-LeNet-Lab]",
   "language": "python",
   "name": "conda-env-CarND-LeNet-Lab-py"
  },
  "language_info": {
   "codemirror_mode": {
    "name": "ipython",
    "version": 3
   },
   "file_extension": ".py",
   "mimetype": "text/x-python",
   "name": "python",
   "nbconvert_exporter": "python",
   "pygments_lexer": "ipython3",
   "version": "3.5.2"
  }
 },
 "nbformat": 4,
 "nbformat_minor": 2
}
